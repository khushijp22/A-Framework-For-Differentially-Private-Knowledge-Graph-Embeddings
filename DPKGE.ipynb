{
  "nbformat": 4,
  "nbformat_minor": 0,
  "metadata": {
    "colab": {
      "provenance": [],
      "gpuType": "T4"
    },
    "kernelspec": {
      "name": "python3",
      "display_name": "Python 3"
    },
    "language_info": {
      "name": "python"
    },
    "accelerator": "GPU"
  },
  "cells": [
    {
      "cell_type": "markdown",
      "source": [
        "#Import Required Libraries and Modules"
      ],
      "metadata": {
        "id": "Hnij58fbmIuR"
      }
    },
    {
      "cell_type": "markdown",
      "source": [
        "Load all necessary Python libraries and project-specific modules.\n",
        "\n"
      ],
      "metadata": {
        "id": "J1izMPYRgXd0"
      }
    },
    {
      "cell_type": "code",
      "source": [
        "%%capture\n",
        "!pip install pykeen==1.10.1 class-resolver==0.3.10"
      ],
      "metadata": {
        "collapsed": true,
        "id": "jZCumycJJAVj"
      },
      "execution_count": null,
      "outputs": []
    },
    {
      "cell_type": "code",
      "source": [
        "from model import TransEModel #model.py\n",
        "from data import KGDataHandler #data.py\n",
        "import matplotlib.pyplot as plt\n"
      ],
      "metadata": {
        "id": "Ct5zRpKreyFD"
      },
      "execution_count": null,
      "outputs": []
    },
    {
      "cell_type": "code",
      "source": [
        "%%capture\n",
        "!pip install opacus"
      ],
      "metadata": {
        "collapsed": true,
        "id": "x8g_OQO3VIxv"
      },
      "execution_count": null,
      "outputs": []
    },
    {
      "cell_type": "code",
      "source": [
        "from trainer import TransETrainer #trainer.py"
      ],
      "metadata": {
        "id": "gs6_GIHLe3rU"
      },
      "execution_count": null,
      "outputs": []
    },
    {
      "cell_type": "markdown",
      "source": [
        "#Load and Prepare Dataset"
      ],
      "metadata": {
        "id": "vGpETXfgfRuA"
      }
    },
    {
      "cell_type": "markdown",
      "source": [
        "Download and initialize the dataset for training and evaluation."
      ],
      "metadata": {
        "id": "41moeue_ga3A"
      }
    },
    {
      "cell_type": "code",
      "source": [
        "# Download dataset\n",
        "fb_path = kagglehub.dataset_download(\"latebloomer/fb15k-237\")\n",
        "print(\"Path to dataset files:\", fb_path)\n"
      ],
      "metadata": {
        "colab": {
          "base_uri": "https://localhost:8080/"
        },
        "id": "py9GPaoOnCB2",
        "outputId": "f4088f08-716d-488b-8c7f-0b6f7a266e91"
      },
      "execution_count": null,
      "outputs": [
        {
          "output_type": "stream",
          "name": "stdout",
          "text": [
            "Downloading from https://www.kaggle.com/api/v1/datasets/download/latebloomer/fb15k-237?dataset_version_number=1...\n"
          ]
        },
        {
          "output_type": "stream",
          "name": "stderr",
          "text": [
            "100%|██████████| 3.63M/3.63M [00:00<00:00, 5.34MB/s]"
          ]
        },
        {
          "output_type": "stream",
          "name": "stdout",
          "text": [
            "Extracting files...\n"
          ]
        },
        {
          "output_type": "stream",
          "name": "stderr",
          "text": [
            "\n"
          ]
        },
        {
          "output_type": "stream",
          "name": "stdout",
          "text": [
            "Path to dataset files: /root/.cache/kagglehub/datasets/latebloomer/fb15k-237/versions/1\n"
          ]
        }
      ]
    },
    {
      "cell_type": "code",
      "source": [
        "device = torch.device(\"cuda\" if torch.cuda.is_available() else \"cpu\")\n",
        "print(f\"Using device: {device}\")"
      ],
      "metadata": {
        "colab": {
          "base_uri": "https://localhost:8080/"
        },
        "id": "HwP3u1ydJeRx",
        "outputId": "36e07dca-52ff-470d-fd6c-8a477ddef803"
      },
      "execution_count": null,
      "outputs": [
        {
          "output_type": "stream",
          "name": "stdout",
          "text": [
            "Using device: cuda\n"
          ]
        }
      ]
    },
    {
      "cell_type": "markdown",
      "source": [
        "#Define Configuration Parameters"
      ],
      "metadata": {
        "id": "8QfcQoOGfca6"
      }
    },
    {
      "cell_type": "markdown",
      "source": [
        "Set all hyperparameters and training options in a centralized config dictionary."
      ],
      "metadata": {
        "id": "abxe9JCYgdHR"
      }
    },
    {
      "cell_type": "code",
      "source": [
        "# Configuration parameters\n",
        "config = {\n",
        "    'embedding_dim': 100,          # Size of the embedding vectors\n",
        "    'learning_rate': 0.005,        # Step size for optimizer updates\n",
        "    'noise_multiplier': 0.7,       # Amount of noise added for differential privacy\n",
        "    'batch_size': 256,             # Number of samples per training batch\n",
        "    'norm_clipping': 1.0,          # Maximum L2 norm of per-sample gradients\n",
        "    'margin': 0.5,                 # Margin for ranking loss\n",
        "    'epochs': 300,                 # Total number of training iterations\n",
        "    'confidential_ratio': 0.3,     # Fraction of training data needing privacy\n",
        "    'device': device\n",
        "}"
      ],
      "metadata": {
        "id": "OEIELAFZnDoc"
      },
      "execution_count": null,
      "outputs": []
    },
    {
      "cell_type": "markdown",
      "source": [
        "#Initialise Data Handler and Model"
      ],
      "metadata": {
        "id": "zLFVQyVcfj2K"
      }
    },
    {
      "cell_type": "markdown",
      "source": [
        "Set up the knowledge graph data processor and instantiate the TransE model."
      ],
      "metadata": {
        "id": "Lpdmb_w1ggKl"
      }
    },
    {
      "cell_type": "code",
      "source": [
        "# Initialize data handler\n",
        "data_handler = KGDataHandler(fb_path, confidential_ratio=config['confidential_ratio'])\n",
        "data_handler.print_data_stats()\n",
        "\n",
        "# Initialize model\n",
        "model = TransEModel(\n",
        "    entity_count=data_handler.entity_count,\n",
        "    relation_count=data_handler.relation_count,\n",
        "    embedding_dim=config['embedding_dim'],\n",
        "    device=config['device']\n",
        ")"
      ],
      "metadata": {
        "colab": {
          "base_uri": "https://localhost:8080/"
        },
        "id": "ZIKFAtNZnRQm",
        "outputId": "598c0ed4-e90b-4296-8011-9d3a9e8ff731"
      },
      "execution_count": null,
      "outputs": [
        {
          "output_type": "stream",
          "name": "stderr",
          "text": [
            "WARNING:pykeen.triples.triples_factory:You're trying to map triples with 30 entities and 0 relations that are not in the training set. These triples will be excluded from the mapping.\n",
            "WARNING:pykeen.triples.triples_factory:In total 28 from 20466 triples were filtered out\n"
          ]
        },
        {
          "output_type": "stream",
          "name": "stdout",
          "text": [
            "--------------------------------------------------------------------------------\n",
            "Total entities: 14505\n",
            "--------------------------------------------------------------------------------\n",
            "Total relations: 237\n",
            "--------------------------------------------------------------------------------\n",
            "Confidential triples: 81634\n",
            "--------------------------------------------------------------------------------\n",
            "Unrestricted triples: 190481\n",
            "--------------------------------------------------------------------------------\n",
            "Testing triples: 20438\n"
          ]
        }
      ]
    },
    {
      "cell_type": "markdown",
      "source": [
        "#Train the Model with Early Stopping\n"
      ],
      "metadata": {
        "id": "T9WgE4XdfpO9"
      }
    },
    {
      "cell_type": "markdown",
      "source": [
        "Begin model training, monitoring loss and privacy metrics with early stopping."
      ],
      "metadata": {
        "id": "UZ4sqOE8gi6H"
      }
    },
    {
      "cell_type": "code",
      "source": [
        "# Initialize trainer\n",
        "trainer = TransETrainer(\n",
        "    model=model,\n",
        "    data_handler=data_handler,\n",
        "    learning_rate=config['learning_rate'],\n",
        "    noise_multiplier=config['noise_multiplier'],\n",
        "    batch_size=config['batch_size'],\n",
        "    norm_clipping=config['norm_clipping'],\n",
        "    margin=config['margin'],\n",
        "    epochs=config['epochs'],\n",
        "    device=config['device']\n",
        ")\n",
        "\n"
      ],
      "metadata": {
        "id": "P_W91MeanUjy"
      },
      "execution_count": null,
      "outputs": []
    },
    {
      "cell_type": "code",
      "source": [
        "# Start training with early stopping\n",
        "print(\"Starting training with early stopping...\")\n",
        "best_model, training_losses, epsilon_values,all_metrics = trainer.train_with_early_stopping(patience=5)"
      ],
      "metadata": {
        "colab": {
          "base_uri": "https://localhost:8080/"
        },
        "collapsed": true,
        "id": "v5uoNge1udeU",
        "outputId": "2aa70886-96f0-4d19-e8e9-1996af3e8f55"
      },
      "execution_count": null,
      "outputs": [
        {
          "output_type": "stream",
          "name": "stdout",
          "text": [
            "Starting training with early stopping...\n",
            "Epoch 1/300\n",
            "  Epoch 1: mU=743, mC=319, avg_loss=0.4613\n",
            "  Validation: MR=6020.39, MRR=0.0219, Hits@10=0.0410\n",
            "  Current privacy guarantee: (ε = 2.19, δ = 1e-5)\n",
            "Epoch 2/300\n",
            "  Epoch 2: mU=1487, mC=637, avg_loss=0.4807\n",
            "Epoch 3/300\n",
            "  Epoch 3: mU=2230, mC=956, avg_loss=0.4825\n",
            "Epoch 4/300\n",
            "  Epoch 4: mU=2973, mC=1275, avg_loss=0.4827\n",
            "Epoch 5/300\n",
            "  Epoch 5: mU=3717, mC=1593, avg_loss=0.4823\n",
            "Epoch 6/300\n",
            "  Epoch 6: mU=4460, mC=1912, avg_loss=0.4791\n",
            "  Current privacy guarantee: (ε = 2.78, δ = 1e-5)\n",
            "Epoch 7/300\n",
            "  Epoch 7: mU=5204, mC=2230, avg_loss=0.4763\n",
            "Epoch 8/300\n",
            "  Epoch 8: mU=5947, mC=2549, avg_loss=0.4742\n",
            "Epoch 9/300\n",
            "  Epoch 9: mU=6690, mC=2868, avg_loss=0.4738\n",
            "Epoch 10/300\n",
            "  Epoch 10: mU=7434, mC=3186, avg_loss=0.4717\n",
            "Epoch 11/300\n",
            "  Epoch 11: mU=8177, mC=3505, avg_loss=0.4681\n",
            "  Validation: MR=6004.38, MRR=0.0271, Hits@10=0.0540\n",
            "  Current privacy guarantee: (ε = 3.20, δ = 1e-5)\n",
            "Epoch 12/300\n",
            "  Epoch 12: mU=8921, mC=3823, avg_loss=0.4664\n",
            "Epoch 13/300\n",
            "  Epoch 13: mU=9664, mC=4142, avg_loss=0.4644\n",
            "Epoch 14/300\n",
            "  Epoch 14: mU=10407, mC=4461, avg_loss=0.4625\n",
            "Epoch 15/300\n",
            "  Epoch 15: mU=11151, mC=4779, avg_loss=0.4606\n",
            "Epoch 16/300\n",
            "  Epoch 16: mU=11894, mC=5098, avg_loss=0.4591\n",
            "  Current privacy guarantee: (ε = 3.57, δ = 1e-5)\n",
            "Epoch 17/300\n",
            "  Epoch 17: mU=12638, mC=5416, avg_loss=0.4580\n",
            "Epoch 18/300\n",
            "  Epoch 18: mU=13381, mC=5735, avg_loss=0.4566\n",
            "Epoch 19/300\n",
            "  Epoch 19: mU=14124, mC=6054, avg_loss=0.4557\n",
            "Epoch 20/300\n",
            "  Epoch 20: mU=14868, mC=6372, avg_loss=0.4546\n",
            "Epoch 21/300\n",
            "  Epoch 21: mU=15611, mC=6691, avg_loss=0.4537\n",
            "  Validation: MR=5783.06, MRR=0.0308, Hits@10=0.0660\n",
            "  Current privacy guarantee: (ε = 3.91, δ = 1e-5)\n",
            "Epoch 22/300\n",
            "  Epoch 22: mU=16355, mC=7009, avg_loss=0.4533\n",
            "Epoch 23/300\n",
            "  Epoch 23: mU=17098, mC=7328, avg_loss=0.4526\n",
            "Epoch 24/300\n",
            "  Epoch 24: mU=17841, mC=7647, avg_loss=0.4513\n",
            "Epoch 25/300\n",
            "  Epoch 25: mU=18585, mC=7965, avg_loss=0.4507\n",
            "Epoch 26/300\n",
            "  Epoch 26: mU=19328, mC=8284, avg_loss=0.4501\n",
            "  Current privacy guarantee: (ε = 4.22, δ = 1e-5)\n",
            "Epoch 27/300\n",
            "  Epoch 27: mU=20072, mC=8602, avg_loss=0.4490\n",
            "Epoch 28/300\n",
            "  Epoch 28: mU=20815, mC=8921, avg_loss=0.4483\n",
            "Epoch 29/300\n",
            "  Epoch 29: mU=21558, mC=9240, avg_loss=0.4480\n",
            "Epoch 30/300\n",
            "  Epoch 30: mU=22302, mC=9558, avg_loss=0.4477\n",
            "Epoch 31/300\n",
            "  Epoch 31: mU=23045, mC=9877, avg_loss=0.4468\n",
            "  Validation: MR=5322.89, MRR=0.0498, Hits@10=0.1090\n",
            "  Current privacy guarantee: (ε = 4.53, δ = 1e-5)\n",
            "Epoch 32/300\n",
            "  Epoch 32: mU=23789, mC=10195, avg_loss=0.4464\n",
            "Epoch 33/300\n",
            "  Epoch 33: mU=24532, mC=10514, avg_loss=0.4460\n",
            "Epoch 34/300\n",
            "  Epoch 34: mU=25275, mC=10833, avg_loss=0.4457\n",
            "Epoch 35/300\n",
            "  Epoch 35: mU=26019, mC=11151, avg_loss=0.4444\n",
            "Epoch 36/300\n",
            "  Epoch 36: mU=26762, mC=11470, avg_loss=0.4440\n",
            "  Current privacy guarantee: (ε = 4.82, δ = 1e-5)\n",
            "Epoch 37/300\n",
            "  Epoch 37: mU=27506, mC=11788, avg_loss=0.4439\n",
            "Epoch 38/300\n",
            "  Epoch 38: mU=28249, mC=12107, avg_loss=0.4436\n",
            "Epoch 39/300\n",
            "  Epoch 39: mU=28992, mC=12426, avg_loss=0.4436\n",
            "Epoch 40/300\n",
            "  Epoch 40: mU=29736, mC=12744, avg_loss=0.4428\n",
            "Epoch 41/300\n",
            "  Epoch 41: mU=30479, mC=13063, avg_loss=0.4423\n",
            "  Validation: MR=5508.19, MRR=0.0454, Hits@10=0.1040\n",
            "  Current privacy guarantee: (ε = 5.09, δ = 1e-5)\n",
            "Epoch 42/300\n",
            "  Epoch 42: mU=31223, mC=13381, avg_loss=0.4425\n",
            "Epoch 43/300\n",
            "  Epoch 43: mU=31966, mC=13700, avg_loss=0.4419\n",
            "Epoch 44/300\n",
            "  Epoch 44: mU=32709, mC=14019, avg_loss=0.4417\n",
            "Epoch 45/300\n",
            "  Epoch 45: mU=33453, mC=14337, avg_loss=0.4414\n",
            "Epoch 46/300\n",
            "  Epoch 46: mU=34196, mC=14656, avg_loss=0.4418\n",
            "  Current privacy guarantee: (ε = 5.36, δ = 1e-5)\n",
            "Epoch 47/300\n",
            "  Epoch 47: mU=34940, mC=14974, avg_loss=0.4407\n",
            "Epoch 48/300\n",
            "  Epoch 48: mU=35683, mC=15293, avg_loss=0.4402\n",
            "Epoch 49/300\n",
            "  Epoch 49: mU=36426, mC=15612, avg_loss=0.4397\n",
            "Epoch 50/300\n",
            "  Epoch 50: mU=37170, mC=15930, avg_loss=0.4397\n",
            "Epoch 51/300\n",
            "  Epoch 51: mU=37913, mC=16249, avg_loss=0.4394\n",
            "  Validation: MR=5471.70, MRR=0.0635, Hits@10=0.1370\n",
            "  Current privacy guarantee: (ε = 5.62, δ = 1e-5)\n",
            "Epoch 52/300\n",
            "  Epoch 52: mU=38657, mC=16567, avg_loss=0.4393\n",
            "Epoch 53/300\n",
            "  Epoch 53: mU=39400, mC=16886, avg_loss=0.4391\n",
            "Epoch 54/300\n",
            "  Epoch 54: mU=40144, mC=17204, avg_loss=0.4389\n",
            "Epoch 55/300\n",
            "  Epoch 55: mU=40887, mC=17523, avg_loss=0.4387\n",
            "Epoch 56/300\n",
            "  Epoch 56: mU=41630, mC=17842, avg_loss=0.4387\n",
            "  Current privacy guarantee: (ε = 5.87, δ = 1e-5)\n",
            "Epoch 57/300\n",
            "  Epoch 57: mU=42374, mC=18160, avg_loss=0.4385\n",
            "Epoch 58/300\n",
            "  Epoch 58: mU=43117, mC=18479, avg_loss=0.4385\n",
            "Epoch 59/300\n",
            "  Epoch 59: mU=43861, mC=18797, avg_loss=0.4379\n",
            "Epoch 60/300\n",
            "  Epoch 60: mU=44604, mC=19116, avg_loss=0.4376\n",
            "Epoch 61/300\n",
            "  Epoch 61: mU=45347, mC=19435, avg_loss=0.4368\n",
            "  Validation: MR=5605.10, MRR=0.0450, Hits@10=0.1040\n",
            "  Current privacy guarantee: (ε = 6.12, δ = 1e-5)\n",
            "Epoch 62/300\n",
            "  Epoch 62: mU=46091, mC=19753, avg_loss=0.4371\n",
            "Epoch 63/300\n",
            "  Epoch 63: mU=46834, mC=20072, avg_loss=0.4372\n",
            "Epoch 64/300\n",
            "  Epoch 64: mU=47578, mC=20390, avg_loss=0.4368\n",
            "Epoch 65/300\n",
            "  Epoch 65: mU=48321, mC=20709, avg_loss=0.4366\n",
            "Epoch 66/300\n",
            "  Epoch 66: mU=49064, mC=21028, avg_loss=0.4366\n",
            "  Current privacy guarantee: (ε = 6.36, δ = 1e-5)\n",
            "Epoch 67/300\n",
            "  Epoch 67: mU=49808, mC=21346, avg_loss=0.4360\n",
            "Epoch 68/300\n",
            "  Epoch 68: mU=50551, mC=21665, avg_loss=0.4360\n",
            "Epoch 69/300\n",
            "  Epoch 69: mU=51295, mC=21983, avg_loss=0.4360\n",
            "Epoch 70/300\n",
            "  Epoch 70: mU=52038, mC=22302, avg_loss=0.4361\n",
            "Epoch 71/300\n",
            "  Epoch 71: mU=52781, mC=22621, avg_loss=0.4356\n",
            "  Validation: MR=5465.65, MRR=0.0496, Hits@10=0.1120\n",
            "  Current privacy guarantee: (ε = 6.60, δ = 1e-5)\n",
            "Epoch 72/300\n",
            "  Epoch 72: mU=53525, mC=22939, avg_loss=0.4362\n",
            "Epoch 73/300\n",
            "  Epoch 73: mU=54268, mC=23258, avg_loss=0.4360\n",
            "Epoch 74/300\n",
            "  Epoch 74: mU=55012, mC=23576, avg_loss=0.4357\n",
            "Epoch 75/300\n",
            "  Epoch 75: mU=55755, mC=23895, avg_loss=0.4352\n",
            "Epoch 76/300\n",
            "  Epoch 76: mU=56498, mC=24214, avg_loss=0.4350\n",
            "  Current privacy guarantee: (ε = 6.83, δ = 1e-5)\n",
            "Epoch 77/300\n",
            "  Epoch 77: mU=57242, mC=24532, avg_loss=0.4346\n",
            "Epoch 78/300\n",
            "  Epoch 78: mU=57985, mC=24851, avg_loss=0.4349\n",
            "Epoch 79/300\n",
            "  Epoch 79: mU=58729, mC=25169, avg_loss=0.4347\n",
            "Epoch 80/300\n",
            "  Epoch 80: mU=59472, mC=25488, avg_loss=0.4351\n",
            "Epoch 81/300\n",
            "  Epoch 81: mU=60215, mC=25807, avg_loss=0.4350\n",
            "  Validation: MR=5129.27, MRR=0.0608, Hits@10=0.1320\n",
            "  Current privacy guarantee: (ε = 7.05, δ = 1e-5)\n",
            "Epoch 82/300\n",
            "  Epoch 82: mU=60959, mC=26125, avg_loss=0.4343\n",
            "Epoch 83/300\n",
            "  Epoch 83: mU=61702, mC=26444, avg_loss=0.4339\n",
            "Epoch 84/300\n",
            "  Epoch 84: mU=62446, mC=26762, avg_loss=0.4338\n",
            "Epoch 85/300\n",
            "  Epoch 85: mU=63189, mC=27081, avg_loss=0.4330\n",
            "Epoch 86/300\n",
            "  Epoch 86: mU=63932, mC=27400, avg_loss=0.4329\n",
            "  Current privacy guarantee: (ε = 7.27, δ = 1e-5)\n",
            "Epoch 87/300\n",
            "  Epoch 87: mU=64676, mC=27718, avg_loss=0.4323\n",
            "Epoch 88/300\n",
            "  Epoch 88: mU=65419, mC=28037, avg_loss=0.4316\n",
            "Epoch 89/300\n",
            "  Epoch 89: mU=66163, mC=28355, avg_loss=0.4316\n",
            "Epoch 90/300\n",
            "  Epoch 90: mU=66906, mC=28674, avg_loss=0.4313\n",
            "Epoch 91/300\n",
            "  Epoch 91: mU=67649, mC=28993, avg_loss=0.4303\n",
            "  Validation: MR=5136.79, MRR=0.0527, Hits@10=0.1250\n",
            "  Current privacy guarantee: (ε = 7.48, δ = 1e-5)\n",
            "Epoch 92/300\n",
            "  Epoch 92: mU=68393, mC=29311, avg_loss=0.4298\n",
            "Epoch 93/300\n",
            "  Epoch 93: mU=69136, mC=29630, avg_loss=0.4294\n",
            "Epoch 94/300\n",
            "  Epoch 94: mU=69880, mC=29948, avg_loss=0.4290\n",
            "Epoch 95/300\n",
            "  Epoch 95: mU=70623, mC=30267, avg_loss=0.4290\n",
            "Epoch 96/300\n",
            "  Epoch 96: mU=71366, mC=30586, avg_loss=0.4287\n",
            "  Current privacy guarantee: (ε = 7.70, δ = 1e-5)\n",
            "Epoch 97/300\n",
            "  Epoch 97: mU=72110, mC=30904, avg_loss=0.4287\n",
            "Epoch 98/300\n",
            "  Epoch 98: mU=72853, mC=31223, avg_loss=0.4287\n",
            "Epoch 99/300\n",
            "  Epoch 99: mU=73597, mC=31541, avg_loss=0.4277\n",
            "Epoch 100/300\n",
            "  Epoch 100: mU=74340, mC=31860, avg_loss=0.4276\n",
            "Epoch 101/300\n",
            "  Epoch 101: mU=75083, mC=32179, avg_loss=0.4272\n",
            "  Validation: MR=4836.81, MRR=0.0630, Hits@10=0.1430\n",
            "  Current privacy guarantee: (ε = 7.91, δ = 1e-5)\n",
            "Epoch 102/300\n",
            "  Epoch 102: mU=75827, mC=32497, avg_loss=0.4268\n",
            "Epoch 103/300\n",
            "  Epoch 103: mU=76570, mC=32816, avg_loss=0.4268\n",
            "Epoch 104/300\n",
            "  Epoch 104: mU=77314, mC=33134, avg_loss=0.4266\n",
            "Epoch 105/300\n",
            "  Epoch 105: mU=78057, mC=33453, avg_loss=0.4261\n",
            "Epoch 106/300\n",
            "  Epoch 106: mU=78800, mC=33772, avg_loss=0.4260\n",
            "  Current privacy guarantee: (ε = 8.11, δ = 1e-5)\n",
            "Epoch 107/300\n",
            "  Epoch 107: mU=79544, mC=34090, avg_loss=0.4262\n",
            "Epoch 108/300\n",
            "  Epoch 108: mU=80287, mC=34409, avg_loss=0.4251\n",
            "Epoch 109/300\n",
            "  Epoch 109: mU=81031, mC=34727, avg_loss=0.4253\n",
            "Epoch 110/300\n",
            "  Epoch 110: mU=81774, mC=35046, avg_loss=0.4246\n",
            "Epoch 111/300\n",
            "  Epoch 111: mU=82517, mC=35365, avg_loss=0.4245\n",
            "  Validation: MR=5040.05, MRR=0.0609, Hits@10=0.1460\n",
            "  Current privacy guarantee: (ε = 8.31, δ = 1e-5)\n",
            "Epoch 112/300\n",
            "  Epoch 112: mU=83261, mC=35683, avg_loss=0.4237\n",
            "Epoch 113/300\n",
            "  Epoch 113: mU=84004, mC=36002, avg_loss=0.4238\n",
            "Epoch 114/300\n",
            "  Epoch 114: mU=84748, mC=36320, avg_loss=0.4237\n",
            "Epoch 115/300\n",
            "  Epoch 115: mU=85491, mC=36639, avg_loss=0.4231\n",
            "Epoch 116/300\n",
            "  Epoch 116: mU=86234, mC=36958, avg_loss=0.4231\n",
            "  Current privacy guarantee: (ε = 8.51, δ = 1e-5)\n",
            "Epoch 117/300\n",
            "  Epoch 117: mU=86978, mC=37276, avg_loss=0.4224\n",
            "Epoch 118/300\n",
            "  Epoch 118: mU=87721, mC=37595, avg_loss=0.4225\n",
            "Epoch 119/300\n",
            "  Epoch 119: mU=88465, mC=37913, avg_loss=0.4226\n",
            "Epoch 120/300\n",
            "  Epoch 120: mU=89208, mC=38232, avg_loss=0.4222\n",
            "Epoch 121/300\n",
            "  Epoch 121: mU=89951, mC=38551, avg_loss=0.4219\n",
            "  Validation: MR=5150.65, MRR=0.0585, Hits@10=0.1350\n",
            "  Current privacy guarantee: (ε = 8.71, δ = 1e-5)\n",
            "Epoch 122/300\n",
            "  Epoch 122: mU=90695, mC=38869, avg_loss=0.4217\n",
            "Epoch 123/300\n",
            "  Epoch 123: mU=91438, mC=39188, avg_loss=0.4218\n",
            "Epoch 124/300\n",
            "  Epoch 124: mU=92182, mC=39506, avg_loss=0.4210\n",
            "Epoch 125/300\n",
            "  Epoch 125: mU=92925, mC=39825, avg_loss=0.4207\n",
            "Epoch 126/300\n",
            "  Epoch 126: mU=93668, mC=40144, avg_loss=0.4205\n",
            "  Current privacy guarantee: (ε = 8.90, δ = 1e-5)\n",
            "Epoch 127/300\n",
            "  Epoch 127: mU=94412, mC=40462, avg_loss=0.4205\n",
            "Epoch 128/300\n",
            "  Epoch 128: mU=95155, mC=40781, avg_loss=0.4204\n",
            "Epoch 129/300\n",
            "  Epoch 129: mU=95899, mC=41099, avg_loss=0.4204\n",
            "Epoch 130/300\n",
            "  Epoch 130: mU=96642, mC=41418, avg_loss=0.4201\n",
            "Epoch 131/300\n",
            "  Epoch 131: mU=97385, mC=41737, avg_loss=0.4202\n",
            "  Validation: MR=4938.60, MRR=0.0593, Hits@10=0.1390\n",
            "  Current privacy guarantee: (ε = 9.09, δ = 1e-5)\n",
            "Epoch 132/300\n",
            "  Epoch 132: mU=98129, mC=42055, avg_loss=0.4202\n",
            "Epoch 133/300\n",
            "  Epoch 133: mU=98872, mC=42374, avg_loss=0.4192\n",
            "Epoch 134/300\n",
            "  Epoch 134: mU=99616, mC=42692, avg_loss=0.4190\n",
            "Epoch 135/300\n",
            "  Epoch 135: mU=100359, mC=43011, avg_loss=0.4190\n",
            "Epoch 136/300\n",
            "  Epoch 136: mU=101102, mC=43330, avg_loss=0.4192\n",
            "  Current privacy guarantee: (ε = 9.28, δ = 1e-5)\n",
            "Epoch 137/300\n",
            "  Epoch 137: mU=101846, mC=43648, avg_loss=0.4187\n",
            "Epoch 138/300\n",
            "  Epoch 138: mU=102589, mC=43967, avg_loss=0.4183\n",
            "Epoch 139/300\n",
            "  Epoch 139: mU=103333, mC=44285, avg_loss=0.4188\n",
            "Epoch 140/300\n",
            "  Epoch 140: mU=104076, mC=44604, avg_loss=0.4182\n",
            "Epoch 141/300\n",
            "  Epoch 141: mU=104819, mC=44923, avg_loss=0.4183\n",
            "  Validation: MR=4851.57, MRR=0.0570, Hits@10=0.1350\n",
            "  Current privacy guarantee: (ε = 9.47, δ = 1e-5)\n",
            "Epoch 142/300\n",
            "  Epoch 142: mU=105563, mC=45241, avg_loss=0.4176\n",
            "Epoch 143/300\n",
            "  Epoch 143: mU=106306, mC=45560, avg_loss=0.4178\n",
            "Epoch 144/300\n",
            "  Epoch 144: mU=107050, mC=45878, avg_loss=0.4176\n",
            "Epoch 145/300\n",
            "  Epoch 145: mU=107793, mC=46197, avg_loss=0.4170\n",
            "Epoch 146/300\n",
            "  Epoch 146: mU=108536, mC=46516, avg_loss=0.4170\n",
            "  Current privacy guarantee: (ε = 9.65, δ = 1e-5)\n",
            "Epoch 147/300\n",
            "  Epoch 147: mU=109280, mC=46834, avg_loss=0.4167\n",
            "Epoch 148/300\n",
            "  Epoch 148: mU=110023, mC=47153, avg_loss=0.4165\n",
            "Epoch 149/300\n",
            "  Epoch 149: mU=110767, mC=47471, avg_loss=0.4168\n",
            "Epoch 150/300\n",
            "  Epoch 150: mU=111510, mC=47790, avg_loss=0.4160\n",
            "Epoch 151/300\n",
            "  Epoch 151: mU=112253, mC=48109, avg_loss=0.4159\n",
            "  Validation: MR=4714.32, MRR=0.0774, Hits@10=0.1790\n",
            "  Current privacy guarantee: (ε = 9.83, δ = 1e-5)\n",
            "Epoch 152/300\n",
            "  Epoch 152: mU=112997, mC=48427, avg_loss=0.4162\n",
            "Epoch 153/300\n",
            "  Epoch 153: mU=113740, mC=48746, avg_loss=0.4161\n",
            "Epoch 154/300\n",
            "  Epoch 154: mU=114484, mC=49064, avg_loss=0.4155\n",
            "Epoch 155/300\n",
            "  Epoch 155: mU=115227, mC=49383, avg_loss=0.4154\n",
            "Epoch 156/300\n",
            "  Epoch 156: mU=115971, mC=49701, avg_loss=0.4155\n",
            "  Current privacy guarantee: (ε = 10.01, δ = 1e-5)\n",
            "Epsilon exceed, stopping at epoch  156\n"
          ]
        }
      ]
    },
    {
      "cell_type": "code",
      "source": [
        "best_model[\"metrics\"]"
      ],
      "metadata": {
        "colab": {
          "base_uri": "https://localhost:8080/"
        },
        "id": "QMPKL6LC1Yis",
        "outputId": "e77ca840-a468-474b-c82f-b739531ad4be"
      },
      "execution_count": null,
      "outputs": [
        {
          "output_type": "execute_result",
          "data": {
            "text/plain": [
              "{'MR': np.float64(4714.325),\n",
              " 'MRR': np.float64(0.07739189103577493),\n",
              " 'Hits@1': 0.01,\n",
              " 'Hits@3': 0.134,\n",
              " 'Hits@10': 0.179,\n",
              " 'epoch': 150}"
            ]
          },
          "metadata": {},
          "execution_count": 20
        }
      ]
    },
    {
      "cell_type": "code",
      "source": [
        "all_metrics"
      ],
      "metadata": {
        "colab": {
          "base_uri": "https://localhost:8080/"
        },
        "id": "FP550xGC1clz",
        "outputId": "2b03e164-d253-4f72-865f-b51e213882d5",
        "collapsed": true
      },
      "execution_count": null,
      "outputs": [
        {
          "output_type": "execute_result",
          "data": {
            "text/plain": [
              "[{'MR': np.float64(6020.39),\n",
              "  'MRR': np.float64(0.021940937038725253),\n",
              "  'Hits@1': 0.008,\n",
              "  'Hits@3': 0.031,\n",
              "  'Hits@10': 0.041,\n",
              "  'epoch': 0},\n",
              " {'MR': np.float64(6004.383),\n",
              "  'MRR': np.float64(0.02705171430513257),\n",
              "  'Hits@1': 0.002,\n",
              "  'Hits@3': 0.048,\n",
              "  'Hits@10': 0.054,\n",
              "  'epoch': 10},\n",
              " {'MR': np.float64(5783.059),\n",
              "  'MRR': np.float64(0.03083065756904648),\n",
              "  'Hits@1': 0.002,\n",
              "  'Hits@3': 0.054,\n",
              "  'Hits@10': 0.066,\n",
              "  'epoch': 20},\n",
              " {'MR': np.float64(5322.891),\n",
              "  'MRR': np.float64(0.0498476038639802),\n",
              "  'Hits@1': 0.004,\n",
              "  'Hits@3': 0.088,\n",
              "  'Hits@10': 0.109,\n",
              "  'epoch': 30},\n",
              " {'MR': np.float64(5508.187),\n",
              "  'MRR': np.float64(0.045401339550636514),\n",
              "  'Hits@1': 0.002,\n",
              "  'Hits@3': 0.082,\n",
              "  'Hits@10': 0.104,\n",
              "  'epoch': 40},\n",
              " {'MR': np.float64(5471.701),\n",
              "  'MRR': np.float64(0.0634816517527356),\n",
              "  'Hits@1': 0.006,\n",
              "  'Hits@3': 0.116,\n",
              "  'Hits@10': 0.137,\n",
              "  'epoch': 50},\n",
              " {'MR': np.float64(5605.1),\n",
              "  'MRR': np.float64(0.044985511763809716),\n",
              "  'Hits@1': 0.004,\n",
              "  'Hits@3': 0.079,\n",
              "  'Hits@10': 0.104,\n",
              "  'epoch': 60},\n",
              " {'MR': np.float64(5465.647),\n",
              "  'MRR': np.float64(0.04961492677505991),\n",
              "  'Hits@1': 0.006,\n",
              "  'Hits@3': 0.088,\n",
              "  'Hits@10': 0.112,\n",
              "  'epoch': 70},\n",
              " {'MR': np.float64(5129.266),\n",
              "  'MRR': np.float64(0.060838763789103446),\n",
              "  'Hits@1': 0.008,\n",
              "  'Hits@3': 0.103,\n",
              "  'Hits@10': 0.132,\n",
              "  'epoch': 80},\n",
              " {'MR': np.float64(5136.787),\n",
              "  'MRR': np.float64(0.052740535483239474),\n",
              "  'Hits@1': 0.004,\n",
              "  'Hits@3': 0.093,\n",
              "  'Hits@10': 0.125,\n",
              "  'epoch': 90},\n",
              " {'MR': np.float64(4836.807),\n",
              "  'MRR': np.float64(0.06298215980628641),\n",
              "  'Hits@1': 0.006,\n",
              "  'Hits@3': 0.109,\n",
              "  'Hits@10': 0.143,\n",
              "  'epoch': 100},\n",
              " {'MR': np.float64(5040.051),\n",
              "  'MRR': np.float64(0.06091940917136504),\n",
              "  'Hits@1': 0.002,\n",
              "  'Hits@3': 0.107,\n",
              "  'Hits@10': 0.146,\n",
              "  'epoch': 110},\n",
              " {'MR': np.float64(5150.652),\n",
              "  'MRR': np.float64(0.058549383784708614),\n",
              "  'Hits@1': 0.002,\n",
              "  'Hits@3': 0.107,\n",
              "  'Hits@10': 0.135,\n",
              "  'epoch': 120},\n",
              " {'MR': np.float64(4938.6),\n",
              "  'MRR': np.float64(0.05926490846358659),\n",
              "  'Hits@1': 0.004,\n",
              "  'Hits@3': 0.104,\n",
              "  'Hits@10': 0.139,\n",
              "  'epoch': 130},\n",
              " {'MR': np.float64(4851.568),\n",
              "  'MRR': np.float64(0.056993030799316384),\n",
              "  'Hits@1': 0.004,\n",
              "  'Hits@3': 0.097,\n",
              "  'Hits@10': 0.135,\n",
              "  'epoch': 140},\n",
              " {'MR': np.float64(4714.325),\n",
              "  'MRR': np.float64(0.07739189103577493),\n",
              "  'Hits@1': 0.01,\n",
              "  'Hits@3': 0.134,\n",
              "  'Hits@10': 0.179,\n",
              "  'epoch': 150}]"
            ]
          },
          "metadata": {},
          "execution_count": 21
        }
      ]
    },
    {
      "cell_type": "markdown",
      "source": [
        "#Plot Training Loss Curve"
      ],
      "metadata": {
        "id": "tMh37ZGZfsAk"
      }
    },
    {
      "cell_type": "code",
      "source": [
        "# Visualize how the training loss evolves over epochs to assess convergence.\n",
        "plt.figure(figsize=(10, 5))\n",
        "plt.plot(training_losses)\n",
        "plt.title('Training Loss')\n",
        "plt.xlabel('Epoch')\n",
        "plt.ylabel('Loss')\n",
        "plt.grid(True)\n",
        "plt.savefig('training_loss.png')\n",
        "plt.show()\n",
        "\n",
        "\n",
        "\n",
        "\n"
      ],
      "metadata": {
        "colab": {
          "base_uri": "https://localhost:8080/",
          "height": 362
        },
        "id": "5OWl5YXMmWOj",
        "outputId": "ee7efa77-c610-45d9-c0ed-5f4963c6e445"
      },
      "execution_count": null,
      "outputs": [
        {
          "output_type": "display_data",
          "data": {
            "text/plain": [
              "<Figure size 1000x500 with 1 Axes>"
            ],
            "image/png": "[encoded data removed]"
          },
          "metadata": {}
        }
      ]
    },
    {
      "cell_type": "markdown",
      "source": [
        "#Plot Evaluation Metrics"
      ],
      "metadata": {
        "id": "d303LRC4fuJS"
      }
    },
    {
      "cell_type": "code",
      "source": [
        "#Display performance metrics (e.g., MRR, Hits@K) and epsilon values over time.\n",
        "\n",
        "# Extract values\n",
        "epochs = [m['epoch'] for m in all_metrics]\n",
        "mr = [m['MR'] for m in all_metrics]\n",
        "mrr = [m['MRR'] for m in all_metrics]\n",
        "hits1 = [m['Hits@1'] for m in all_metrics]\n",
        "hits3 = [m['Hits@3'] for m in all_metrics]\n",
        "hits10 = [m['Hits@10'] for m in all_metrics]\n",
        "\n",
        "# Plot\n",
        "plt.figure(figsize=(12, 6))\n",
        "\n",
        "# Plot MR\n",
        "plt.subplot(2, 1, 1)\n",
        "plt.plot(epochs, mr, marker='o', color='tab:blue')\n",
        "plt.title(\"Mean Rank (MR) over Epochs\")\n",
        "plt.xlabel(\"Epoch\")\n",
        "plt.ylabel(\"Mean Rank (lower is better)\")\n",
        "plt.grid(True)\n",
        "\n",
        "# Plot MRR and Hits@\n",
        "plt.subplot(2, 1, 2)\n",
        "plt.plot(epochs, mrr, marker='o', label=\"MRR\", color='tab:orange')\n",
        "plt.plot(epochs, hits1, marker='o', label=\"Hits@1\", color='tab:red')\n",
        "plt.plot(epochs, hits3, marker='o', label=\"Hits@3\", color='tab:green')\n",
        "plt.plot(epochs, hits10, marker='o', label=\"Hits@10\", color='tab:purple')\n",
        "plt.title(\"MRR and Hits@K over Epochs\")\n",
        "plt.xlabel(\"Epoch\")\n",
        "plt.ylabel(\"Score\")\n",
        "plt.legend()\n",
        "plt.grid(True)\n",
        "plt.savefig('MR, MRR, Hits@R.png')\n",
        "plt.tight_layout()\n",
        "plt.show()\n"
      ],
      "metadata": {
        "colab": {
          "base_uri": "https://localhost:8080/",
          "height": 328
        },
        "id": "YtqdVujf2JDB",
        "outputId": "c312a8b3-1b81-446c-b3d2-5a3c5b7c5bf1"
      },
      "execution_count": null,
      "outputs": [
        {
          "output_type": "display_data",
          "data": {
            "text/plain": [
              "<Figure size 1200x600 with 2 Axes>"
            ],
            "image/png": "[encoded data removed]"
          },
          "metadata": {}
        }
      ]
    }
  ]
}